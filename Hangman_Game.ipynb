{
 "cells": [
  {
   "cell_type": "code",
   "execution_count": 2,
   "id": "1bc4a6f9",
   "metadata": {},
   "outputs": [
    {
     "name": "stdout",
     "output_type": "stream",
     "text": [
      "You have 15 chances left\n",
      "\n",
      "Make a guess:i\n",
      "********i*You have 14 chances left\n",
      "\n",
      "Make a guess:m\n",
      "********i*You have 13 chances left\n",
      "\n",
      "Make a guess:o\n",
      "******o*i*You have 12 chances left\n",
      "\n",
      "Make a guess:a\n",
      "******o*i*You have 11 chances left\n",
      "\n",
      "Make a guess:z\n",
      "******o*i*You have 10 chances left\n",
      "\n",
      "Make a guess:a\n",
      "******o*i*You have 9 chances left\n",
      "\n",
      "Make a guess:e\n",
      "******o*i*You have 8 chances left\n",
      "\n",
      "Make a guess:l\n",
      "******o*i*You have 7 chances left\n",
      "\n",
      "Make a guess:m\n",
      "******o*i*You have 6 chances left\n",
      "\n",
      "Make a guess:e\n",
      "******o*i*You have 5 chances left\n",
      "\n",
      "Make a guess:\n",
      "******o*i*You have 4 chances left\n",
      "\n",
      "Make a guess:u\n",
      "*u**u*o*i*You have 3 chances left\n",
      "\n",
      "Make a guess:t\n",
      "tuttu*o*i*You have 2 chances left\n",
      "\n",
      "Make a guess:r\n",
      "tuttu*ori*You have 1 chances left\n",
      "\n",
      "Make a guess:k\n",
      "tuttu*ori*\n",
      " \n",
      " Dude... The word was tuttucorin! You missed.\n",
      "\n",
      " You ran out of attempts - So, you are Hanged!! \n"
     ]
    }
   ],
   "source": [
    "from random import choice\n",
    "def word_generator():\n",
    "    with open(\"wordlist.txt\",\"r\")as f:\n",
    "        lines = f.readlines()\n",
    "    f.close()\n",
    "    lines = [i.strip(\"\\n\")for i in lines]\n",
    "    return choice(lines)\n",
    "word = word_generator()\n",
    "guessed = \"\"\n",
    "turns = int(len(word)*1.5)\n",
    "while (True):\n",
    "    print(\"You have {} chances left\".format(turns))\n",
    "    inp = input(\"\\nMake a guess:\")\n",
    "    turns = turns -1\n",
    "    if inp in word:\n",
    "        guessed = guessed + inp\n",
    "    unguessed_char =0 \n",
    "    for i in word:\n",
    "        if i in guessed:\n",
    "            print(i,end=\"\")\n",
    "        else:\n",
    "            unguessed_char +=1\n",
    "            print(\"*\",end=\"\")\n",
    "    if unguessed_char==0:\n",
    "        print(\"\\nHurray, You Won!!\")\n",
    "        break\n",
    "    if turns ==0:\n",
    "        print(\"\\n \\n Dude... The word was {}! You missed.\".format(word))\n",
    "        print(\"\\n You ran out of attempts - So, you are Hanged!! \")\n",
    "        break"
   ]
  },
  {
   "cell_type": "code",
   "execution_count": null,
   "id": "08d2503d",
   "metadata": {},
   "outputs": [],
   "source": []
  }
 ],
 "metadata": {
  "kernelspec": {
   "display_name": "Python 3 (ipykernel)",
   "language": "python",
   "name": "python3"
  },
  "language_info": {
   "codemirror_mode": {
    "name": "ipython",
    "version": 3
   },
   "file_extension": ".py",
   "mimetype": "text/x-python",
   "name": "python",
   "nbconvert_exporter": "python",
   "pygments_lexer": "ipython3",
   "version": "3.9.6"
  }
 },
 "nbformat": 4,
 "nbformat_minor": 5
}
